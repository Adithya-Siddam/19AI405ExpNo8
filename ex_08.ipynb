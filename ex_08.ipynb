{
  "nbformat": 4,
  "nbformat_minor": 0,
  "metadata": {
    "colab": {
      "provenance": [],
      "authorship_tag": "ABX9TyOJfPoKixHOWK54AgCs3oku",
      "include_colab_link": true
    },
    "kernelspec": {
      "name": "python3",
      "display_name": "Python 3"
    },
    "language_info": {
      "name": "python"
    }
  },
  "cells": [
    {
      "cell_type": "markdown",
      "metadata": {
        "id": "view-in-github",
        "colab_type": "text"
      },
      "source": [
        "<a href=\"https://colab.research.google.com/github/Adithya-Siddam/19AI405ExpNo8/blob/main/ex_08.ipynb\" target=\"_parent\"><img src=\"https://colab.research.google.com/assets/colab-badge.svg\" alt=\"Open In Colab\"/></a>"
      ]
    },
    {
      "cell_type": "code",
      "execution_count": 1,
      "metadata": {
        "colab": {
          "base_uri": "https://localhost:8080/"
        },
        "id": "MstqjiBdJDyA",
        "outputId": "7c39d107-fc25-49e1-e3ca-dd0d28edc9a4"
      },
      "outputs": [
        {
          "output_type": "stream",
          "name": "stdout",
          "text": [
            "SEND = 9567\n",
            "MORE = 1085\n",
            "MONEY = 10652\n"
          ]
        }
      ],
      "source": [
        "from itertools import permutations\n",
        "\n",
        "def solve_cryptarithmetic():\n",
        "    for perm in permutations(range(10), 8):\n",
        "        S, E, N, D, M, O, R, Y = perm\n",
        "\n",
        "        # Check for leading zeros\n",
        "        if S == 0 or M == 0:\n",
        "            continue\n",
        "\n",
        "        # Check the equation constraints\n",
        "        SEND = 1000 * S + 100 * E + 10 * N + D\n",
        "        MORE = 1000 * M + 100 * O + 10 * R + E\n",
        "        MONEY = 10000 * M + 1000 * O + 100 * N + 10 * E + Y\n",
        "\n",
        "        if SEND + MORE == MONEY:\n",
        "            return SEND, MORE, MONEY\n",
        "\n",
        "    return None\n",
        "\n",
        "solution = solve_cryptarithmetic()\n",
        "\n",
        "if solution:\n",
        "    SEND, MORE, MONEY = solution\n",
        "    print(f'SEND = {SEND}')\n",
        "    print(f'MORE = {MORE}')\n",
        "    print(f'MONEY = {MONEY}')\n",
        "else:\n",
        "    print(\"No solution found.\")"
      ]
    }
  ]
}